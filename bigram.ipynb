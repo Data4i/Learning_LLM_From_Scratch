{
  "cells": [
    {
      "cell_type": "code",
      "execution_count": 1,
      "id": "d3b06b3e-a59b-4870-a9c5-3a27a9dd632e",
      "metadata": {
        "id": "d3b06b3e-a59b-4870-a9c5-3a27a9dd632e"
      },
      "outputs": [],
      "source": [
        "import torch\n",
        "block_size = 8\n",
        "batch_size = 4"
      ]
    },
    {
      "cell_type": "code",
      "execution_count": 2,
      "id": "a49f5e44-b480-4fd1-a7e5-37e564e08a16",
      "metadata": {
        "id": "a49f5e44-b480-4fd1-a7e5-37e564e08a16",
        "outputId": "46b17fc1-c86f-4658-abdf-67d6aec3f884",
        "colab": {
          "base_uri": "https://localhost:8080/"
        }
      },
      "outputs": [
        {
          "output_type": "stream",
          "name": "stdout",
          "text": [
            "['\\n', ' ', '!', '\"', '&', \"'\", '(', ')', '*', ',', '-', '.', '0', '1', '2', '3', '4', '5', '6', '7', '8', '9', ':', ';', '?', 'A', 'B', 'C', 'D', 'E', 'F', 'G', 'H', 'I', 'J', 'K', 'L', 'M', 'N', 'O', 'P', 'Q', 'R', 'S', 'T', 'U', 'V', 'W', 'X', 'Y', 'Z', '[', ']', '_', 'a', 'b', 'c', 'd', 'e', 'f', 'g', 'h', 'i', 'j', 'k', 'l', 'm', 'n', 'o', 'p', 'q', 'r', 's', 't', 'u', 'v', 'w', 'x', 'y', 'z']\n",
            "80\n"
          ]
        }
      ],
      "source": [
        "with open('data/wizard_of_oz.txt', 'r', encoding = 'utf-8') as f:\n",
        "    text = f.read()\n",
        "chars = sorted(set(text))\n",
        "print(chars)\n",
        "print(len(chars))"
      ]
    },
    {
      "cell_type": "code",
      "execution_count": 3,
      "id": "4eb13411-36d9-4b4d-9026-bde5e4fe486c",
      "metadata": {
        "id": "4eb13411-36d9-4b4d-9026-bde5e4fe486c"
      },
      "outputs": [],
      "source": [
        "string_to_int = {ch:i for i, ch in enumerate(chars)}\n",
        "int_to_string = {i:ch for i, ch in enumerate(chars)}\n",
        "encode = lambda s: [string_to_int[c] for c in s]\n",
        "decode = lambda l: ''.join(int_to_string[i] for i in l)"
      ]
    },
    {
      "cell_type": "code",
      "execution_count": 4,
      "id": "8be24775-4170-40cb-b4cb-88a6b6046807",
      "metadata": {
        "id": "8be24775-4170-40cb-b4cb-88a6b6046807",
        "outputId": "e164a1b4-f977-4a46-9073-d364619d20da",
        "colab": {
          "base_uri": "https://localhost:8080/"
        }
      },
      "outputs": [
        {
          "output_type": "stream",
          "name": "stdout",
          "text": [
            "[40, 54, 74, 65] Paul\n"
          ]
        }
      ],
      "source": [
        "encoded_paul = encode('Paul')\n",
        "decoded_paul = decode(encoded_paul)\n",
        "print(encoded_paul, decoded_paul)"
      ]
    },
    {
      "cell_type": "code",
      "execution_count": 5,
      "id": "e32670a0-22a4-43a1-b1d3-172b75a45b5e",
      "metadata": {
        "id": "e32670a0-22a4-43a1-b1d3-172b75a45b5e",
        "outputId": "06b1e8fb-32f8-4993-a57c-cbd0306912ec",
        "colab": {
          "base_uri": "https://localhost:8080/"
        }
      },
      "outputs": [
        {
          "output_type": "stream",
          "name": "stdout",
          "text": [
            "tensor([ 1,  1, 28, 39, 42, 39, 44, 32, 49,  1, 25, 38, 28,  1, 44, 32, 29,  1,\n",
            "        47, 33, 50, 25, 42, 28,  1, 33, 38,  1, 39, 50,  0,  0,  1,  1, 26, 49,\n",
            "         0,  0,  1,  1, 36, 11,  1, 30, 42, 25, 38, 35,  1, 26, 25, 45, 37,  0,\n",
            "         0,  1,  1, 25, 45, 44, 32, 39, 42,  1, 39, 30,  1, 44, 32, 29,  1, 47,\n",
            "        33, 50, 25, 42, 28,  1, 39, 30,  1, 39, 50,  9,  1, 44, 32, 29,  1, 36,\n",
            "        25, 38, 28,  1, 39, 30,  1, 39, 50,  9])\n"
          ]
        }
      ],
      "source": [
        "data = torch.tensor(encode(text), dtype = torch.long)\n",
        "print(data[:100])"
      ]
    },
    {
      "cell_type": "code",
      "execution_count": 6,
      "id": "e97f9146-f77d-4239-8683-f31b5314fa2d",
      "metadata": {
        "id": "e97f9146-f77d-4239-8683-f31b5314fa2d",
        "outputId": "722cf8e4-4bc5-4827-b7af-983745bc197c",
        "colab": {
          "base_uri": "https://localhost:8080/"
        }
      },
      "outputs": [
        {
          "output_type": "execute_result",
          "data": {
            "text/plain": [
              "torch.Size([232309])"
            ]
          },
          "metadata": {},
          "execution_count": 6
        }
      ],
      "source": [
        "data.shape"
      ]
    },
    {
      "cell_type": "code",
      "execution_count": 7,
      "id": "76e4ced1-6cff-48d1-9646-a60032ef8c72",
      "metadata": {
        "id": "76e4ced1-6cff-48d1-9646-a60032ef8c72",
        "outputId": "b23be193-1229-47a1-fa2c-907f46499ccc",
        "colab": {
          "base_uri": "https://localhost:8080/"
        }
      },
      "outputs": [
        {
          "output_type": "execute_result",
          "data": {
            "text/plain": [
              "232309"
            ]
          },
          "metadata": {},
          "execution_count": 7
        }
      ],
      "source": [
        "len(text)"
      ]
    },
    {
      "cell_type": "code",
      "execution_count": 8,
      "id": "cf134520-d9f5-460c-8a6a-3fd1176fef46",
      "metadata": {
        "id": "cf134520-d9f5-460c-8a6a-3fd1176fef46"
      },
      "outputs": [],
      "source": [
        "n = int(0.8 * len(data))\n",
        "train_data = data[:n]\n",
        "val_data = data[n:]"
      ]
    },
    {
      "cell_type": "code",
      "execution_count": 9,
      "id": "1b679a46-191c-4532-8fa1-1c6be8762657",
      "metadata": {
        "id": "1b679a46-191c-4532-8fa1-1c6be8762657",
        "outputId": "c34e4d8d-8bc4-4677-8470-41abd192f472",
        "colab": {
          "base_uri": "https://localhost:8080/"
        }
      },
      "outputs": [
        {
          "output_type": "execute_result",
          "data": {
            "text/plain": [
              "(torch.Size([185847]), torch.Size([46462]))"
            ]
          },
          "metadata": {},
          "execution_count": 9
        }
      ],
      "source": [
        "train_data.shape, val_data.shape"
      ]
    },
    {
      "cell_type": "code",
      "source": [
        "def get_batch(split):\n",
        "  data = train_data if split == 'train' else val_data\n",
        "  ix = torch.randint(len(data) - block_size, (batch_size,))\n",
        "  print(ix)\n",
        "  x = torch.stack([data[i:i+block_size] for i in ix])\n",
        "  y = torch.stack([data[i+1: i+block_size+1] for i in ix])\n",
        "  return x, y\n",
        "\n",
        "x, y = get_batch('train')\n",
        "print(f'Inputs \\n: {x}')\n",
        "print(f'Outputs \\n: {y}')\n"
      ],
      "metadata": {
        "id": "AqUQNh4jSQGj",
        "outputId": "1a1791b5-a34f-4065-e383-42b58546ac2a",
        "colab": {
          "base_uri": "https://localhost:8080/"
        }
      },
      "id": "AqUQNh4jSQGj",
      "execution_count": 12,
      "outputs": [
        {
          "output_type": "stream",
          "name": "stdout",
          "text": [
            "tensor([ 41110, 138355, 144507, 143536])\n",
            "Inputs \n",
            ": tensor([[ 1, 73, 68,  1, 73, 61, 58,  0],\n",
            "        [60, 68, 78, 65, 58, 72,  9,  1],\n",
            "        [61, 62, 72,  1, 76, 71, 62, 67],\n",
            "        [58, 54, 73, 65, 78,  1, 58, 77]])\n",
            "Outputs \n",
            ": tensor([[73, 68,  1, 73, 61, 58,  0, 47],\n",
            "        [68, 78, 65, 58, 72,  9,  1, 76],\n",
            "        [62, 72,  1, 76, 71, 62, 67, 64],\n",
            "        [54, 73, 65, 78,  1, 58, 77, 56]])\n"
          ]
        }
      ]
    },
    {
      "cell_type": "code",
      "execution_count": 11,
      "id": "91504607-32c1-478d-8228-e82153fc895a",
      "metadata": {
        "id": "91504607-32c1-478d-8228-e82153fc895a",
        "outputId": "875e70e0-0726-433a-c0b8-dafba65a7343",
        "colab": {
          "base_uri": "https://localhost:8080/"
        }
      },
      "outputs": [
        {
          "output_type": "stream",
          "name": "stdout",
          "text": [
            "When input is tensor([1]) target is 1\n",
            "When input is tensor([1, 1]) target is 28\n",
            "When input is tensor([ 1,  1, 28]) target is 39\n",
            "When input is tensor([ 1,  1, 28, 39]) target is 42\n",
            "When input is tensor([ 1,  1, 28, 39, 42]) target is 39\n",
            "When input is tensor([ 1,  1, 28, 39, 42, 39]) target is 44\n",
            "When input is tensor([ 1,  1, 28, 39, 42, 39, 44]) target is 32\n",
            "When input is tensor([ 1,  1, 28, 39, 42, 39, 44, 32]) target is 49\n"
          ]
        }
      ],
      "source": [
        "x = train_data[:block_size]\n",
        "y = train_data[1: block_size+1]\n",
        "\n",
        "for t in range(block_size):\n",
        "    content = x[:t+1]\n",
        "    target = y[t]\n",
        "    print(f'When input is {content} target is {target}')"
      ]
    },
    {
      "cell_type": "code",
      "execution_count": null,
      "id": "05b8c61b-766a-4619-95d4-59efedae6cba",
      "metadata": {
        "id": "05b8c61b-766a-4619-95d4-59efedae6cba"
      },
      "outputs": [],
      "source": []
    }
  ],
  "metadata": {
    "kernelspec": {
      "display_name": "Python 3 (ipykernel)",
      "language": "python",
      "name": "python3"
    },
    "language_info": {
      "codemirror_mode": {
        "name": "ipython",
        "version": 3
      },
      "file_extension": ".py",
      "mimetype": "text/x-python",
      "name": "python",
      "nbconvert_exporter": "python",
      "pygments_lexer": "ipython3",
      "version": "3.10.12"
    },
    "colab": {
      "provenance": []
    }
  },
  "nbformat": 4,
  "nbformat_minor": 5
}